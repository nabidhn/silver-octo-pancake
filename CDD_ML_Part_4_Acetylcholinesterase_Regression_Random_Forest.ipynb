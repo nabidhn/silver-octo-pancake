{
  "nbformat": 4,
  "nbformat_minor": 0,
  "metadata": {
    "kernelspec": {
      "display_name": "Python 3",
      "language": "python",
      "name": "python3"
    },
    "language_info": {
      "codemirror_mode": {
        "name": "ipython",
        "version": 3
      },
      "file_extension": ".py",
      "mimetype": "text/x-python",
      "name": "python",
      "nbconvert_exporter": "python",
      "pygments_lexer": "ipython3",
      "version": "3.7.6"
    },
    "colab": {
      "name": "CDD-ML-Part-4-Acetylcholinesterase-Regression-Random-Forest.ipynb",
      "provenance": []
    },
    "accelerator": "GPU",
    "gpuClass": "standard"
  },
  "cells": [
    {
      "cell_type": "markdown",
      "metadata": {
        "id": "7AAfh_j7hSwQ"
      },
      "source": [
        "# **Bioinformatics Project - Computational Drug Discovery [Part 4] Regression Models with Random Forest**\n",
        "\n",
        "Chanin Nantasenamat\n",
        "\n",
        "[*'Data Professor' YouTube channel*](http://youtube.com/dataprofessor)\n",
        "\n",
        "In this Jupyter notebook, we will be building a real-life **data science project** that you can include in your **data science portfolio**. Particularly, we will be building a machine learning model using the ChEMBL bioactivity data.\n",
        "\n",
        "In **Part 4**, we will be building a regression model of acetylcholinesterase inhibitors using the random forest algorithm.\n",
        "\n",
        "---"
      ]
    },
    {
      "cell_type": "code",
      "source": [
        "from google.colab import drive\n",
        "drive.mount('/content/drive')"
      ],
      "metadata": {
        "colab": {
          "base_uri": "https://localhost:8080/"
        },
        "id": "ipeWfdeeG2-o",
        "outputId": "b1a4b1ae-9aaa-4579-d1ee-76966b0dcfcb"
      },
      "execution_count": 1,
      "outputs": [
        {
          "output_type": "stream",
          "name": "stdout",
          "text": [
            "Mounted at /content/drive\n"
          ]
        }
      ]
    },
    {
      "cell_type": "markdown",
      "metadata": {
        "id": "jw7MqTMphSwR"
      },
      "source": [
        "## **1. Import libraries**"
      ]
    },
    {
      "cell_type": "code",
      "metadata": {
        "id": "D3rFTNAIhSwS"
      },
      "source": [
        "import pandas as pd\n",
        "import seaborn as sns\n",
        "import numpy as np\n",
        "from sklearn.model_selection import train_test_split\n",
        "from sklearn.ensemble import RandomForestRegressor"
      ],
      "execution_count": 16,
      "outputs": []
    },
    {
      "cell_type": "markdown",
      "metadata": {
        "id": "0GvT3PArhSwX"
      },
      "source": [
        "## **2. Load the data set**"
      ]
    },
    {
      "cell_type": "code",
      "metadata": {
        "id": "043mRJZIhSwY",
        "colab": {
          "base_uri": "https://localhost:8080/"
        },
        "outputId": "81ef5bfc-bd71-417c-df1c-e62f8e966ad1"
      },
      "source": [
        "! wget https://github.com/dataprofessor/data/raw/master/acetylcholinesterase_06_bioactivity_data_3class_pIC50_pubchem_fp.csv"
      ],
      "execution_count": 2,
      "outputs": [
        {
          "output_type": "stream",
          "name": "stdout",
          "text": [
            "--2023-03-28 10:06:59--  https://github.com/dataprofessor/data/raw/master/acetylcholinesterase_06_bioactivity_data_3class_pIC50_pubchem_fp.csv\n",
            "Resolving github.com (github.com)... 20.205.243.166\n",
            "Connecting to github.com (github.com)|20.205.243.166|:443... connected.\n",
            "HTTP request sent, awaiting response... 302 Found\n",
            "Location: https://raw.githubusercontent.com/dataprofessor/data/master/acetylcholinesterase_06_bioactivity_data_3class_pIC50_pubchem_fp.csv [following]\n",
            "--2023-03-28 10:07:00--  https://raw.githubusercontent.com/dataprofessor/data/master/acetylcholinesterase_06_bioactivity_data_3class_pIC50_pubchem_fp.csv\n",
            "Resolving raw.githubusercontent.com (raw.githubusercontent.com)... 185.199.109.133, 185.199.108.133, 185.199.111.133, ...\n",
            "Connecting to raw.githubusercontent.com (raw.githubusercontent.com)|185.199.109.133|:443... connected.\n",
            "HTTP request sent, awaiting response... 200 OK\n",
            "Length: 8363909 (8.0M) [text/plain]\n",
            "Saving to: ‘acetylcholinesterase_06_bioactivity_data_3class_pIC50_pubchem_fp.csv’\n",
            "\n",
            "acetylcholinesteras 100%[===================>]   7.98M  --.-KB/s    in 0.03s   \n",
            "\n",
            "2023-03-28 10:07:01 (286 MB/s) - ‘acetylcholinesterase_06_bioactivity_data_3class_pIC50_pubchem_fp.csv’ saved [8363909/8363909]\n",
            "\n"
          ]
        }
      ]
    },
    {
      "cell_type": "code",
      "metadata": {
        "id": "cSgppzqPiR0G"
      },
      "source": [
        "df = pd.read_csv('acetylcholinesterase_06_bioactivity_data_3class_pIC50_pubchem_fp.csv')"
      ],
      "execution_count": 3,
      "outputs": []
    },
    {
      "cell_type": "markdown",
      "metadata": {
        "id": "kuiiC0xthSwb"
      },
      "source": [
        "## **3. Input features**\n",
        "The ***Acetylcholinesterase*** data set contains 881 input features and 1 output variable (pIC50 values)."
      ]
    },
    {
      "cell_type": "markdown",
      "metadata": {
        "id": "iCeQQn0uhSwb"
      },
      "source": [
        "### **3.1. Input features**"
      ]
    },
    {
      "cell_type": "code",
      "metadata": {
        "scrolled": true,
        "id": "li32nAPohSwc",
        "colab": {
          "base_uri": "https://localhost:8080/",
          "height": 487
        },
        "outputId": "f020c312-e12b-4e50-d7dd-7f45744e6539"
      },
      "source": [
        "X = df.drop('pIC50', axis=1)\n",
        "X"
      ],
      "execution_count": 4,
      "outputs": [
        {
          "output_type": "execute_result",
          "data": {
            "text/plain": [
              "      PubchemFP0  PubchemFP1  PubchemFP2  PubchemFP3  PubchemFP4  PubchemFP5  \\\n",
              "0              1           1           1           0           0           0   \n",
              "1              1           1           1           0           0           0   \n",
              "2              1           1           1           0           0           0   \n",
              "3              1           1           0           0           0           0   \n",
              "4              1           1           0           0           0           0   \n",
              "...          ...         ...         ...         ...         ...         ...   \n",
              "4690           1           1           1           1           0           0   \n",
              "4691           1           1           1           1           0           0   \n",
              "4692           1           1           1           1           0           0   \n",
              "4693           1           1           1           1           0           0   \n",
              "4694           1           1           1           1           0           0   \n",
              "\n",
              "      PubchemFP6  PubchemFP7  PubchemFP8  PubchemFP9  ...  PubchemFP871  \\\n",
              "0              0           0           0           1  ...             0   \n",
              "1              0           0           0           1  ...             0   \n",
              "2              0           0           0           1  ...             0   \n",
              "3              0           0           0           1  ...             0   \n",
              "4              0           0           0           1  ...             0   \n",
              "...          ...         ...         ...         ...  ...           ...   \n",
              "4690           0           0           0           1  ...             0   \n",
              "4691           0           0           0           1  ...             0   \n",
              "4692           0           0           0           1  ...             0   \n",
              "4693           0           0           0           1  ...             0   \n",
              "4694           0           0           0           1  ...             0   \n",
              "\n",
              "      PubchemFP872  PubchemFP873  PubchemFP874  PubchemFP875  PubchemFP876  \\\n",
              "0                0             0             0             0             0   \n",
              "1                0             0             0             0             0   \n",
              "2                0             0             0             0             0   \n",
              "3                0             0             0             0             0   \n",
              "4                0             0             0             0             0   \n",
              "...            ...           ...           ...           ...           ...   \n",
              "4690             0             0             0             0             0   \n",
              "4691             0             0             0             0             0   \n",
              "4692             0             0             0             0             0   \n",
              "4693             0             0             0             0             0   \n",
              "4694             0             0             0             0             0   \n",
              "\n",
              "      PubchemFP877  PubchemFP878  PubchemFP879  PubchemFP880  \n",
              "0                0             0             0             0  \n",
              "1                0             0             0             0  \n",
              "2                0             0             0             0  \n",
              "3                0             0             0             0  \n",
              "4                0             0             0             0  \n",
              "...            ...           ...           ...           ...  \n",
              "4690             0             0             0             0  \n",
              "4691             0             0             0             0  \n",
              "4692             0             0             0             0  \n",
              "4693             0             0             0             0  \n",
              "4694             0             0             0             0  \n",
              "\n",
              "[4695 rows x 881 columns]"
            ],
            "text/html": [
              "\n",
              "  <div id=\"df-8ca41170-08cb-471c-9a35-b5aaca9c884c\">\n",
              "    <div class=\"colab-df-container\">\n",
              "      <div>\n",
              "<style scoped>\n",
              "    .dataframe tbody tr th:only-of-type {\n",
              "        vertical-align: middle;\n",
              "    }\n",
              "\n",
              "    .dataframe tbody tr th {\n",
              "        vertical-align: top;\n",
              "    }\n",
              "\n",
              "    .dataframe thead th {\n",
              "        text-align: right;\n",
              "    }\n",
              "</style>\n",
              "<table border=\"1\" class=\"dataframe\">\n",
              "  <thead>\n",
              "    <tr style=\"text-align: right;\">\n",
              "      <th></th>\n",
              "      <th>PubchemFP0</th>\n",
              "      <th>PubchemFP1</th>\n",
              "      <th>PubchemFP2</th>\n",
              "      <th>PubchemFP3</th>\n",
              "      <th>PubchemFP4</th>\n",
              "      <th>PubchemFP5</th>\n",
              "      <th>PubchemFP6</th>\n",
              "      <th>PubchemFP7</th>\n",
              "      <th>PubchemFP8</th>\n",
              "      <th>PubchemFP9</th>\n",
              "      <th>...</th>\n",
              "      <th>PubchemFP871</th>\n",
              "      <th>PubchemFP872</th>\n",
              "      <th>PubchemFP873</th>\n",
              "      <th>PubchemFP874</th>\n",
              "      <th>PubchemFP875</th>\n",
              "      <th>PubchemFP876</th>\n",
              "      <th>PubchemFP877</th>\n",
              "      <th>PubchemFP878</th>\n",
              "      <th>PubchemFP879</th>\n",
              "      <th>PubchemFP880</th>\n",
              "    </tr>\n",
              "  </thead>\n",
              "  <tbody>\n",
              "    <tr>\n",
              "      <th>0</th>\n",
              "      <td>1</td>\n",
              "      <td>1</td>\n",
              "      <td>1</td>\n",
              "      <td>0</td>\n",
              "      <td>0</td>\n",
              "      <td>0</td>\n",
              "      <td>0</td>\n",
              "      <td>0</td>\n",
              "      <td>0</td>\n",
              "      <td>1</td>\n",
              "      <td>...</td>\n",
              "      <td>0</td>\n",
              "      <td>0</td>\n",
              "      <td>0</td>\n",
              "      <td>0</td>\n",
              "      <td>0</td>\n",
              "      <td>0</td>\n",
              "      <td>0</td>\n",
              "      <td>0</td>\n",
              "      <td>0</td>\n",
              "      <td>0</td>\n",
              "    </tr>\n",
              "    <tr>\n",
              "      <th>1</th>\n",
              "      <td>1</td>\n",
              "      <td>1</td>\n",
              "      <td>1</td>\n",
              "      <td>0</td>\n",
              "      <td>0</td>\n",
              "      <td>0</td>\n",
              "      <td>0</td>\n",
              "      <td>0</td>\n",
              "      <td>0</td>\n",
              "      <td>1</td>\n",
              "      <td>...</td>\n",
              "      <td>0</td>\n",
              "      <td>0</td>\n",
              "      <td>0</td>\n",
              "      <td>0</td>\n",
              "      <td>0</td>\n",
              "      <td>0</td>\n",
              "      <td>0</td>\n",
              "      <td>0</td>\n",
              "      <td>0</td>\n",
              "      <td>0</td>\n",
              "    </tr>\n",
              "    <tr>\n",
              "      <th>2</th>\n",
              "      <td>1</td>\n",
              "      <td>1</td>\n",
              "      <td>1</td>\n",
              "      <td>0</td>\n",
              "      <td>0</td>\n",
              "      <td>0</td>\n",
              "      <td>0</td>\n",
              "      <td>0</td>\n",
              "      <td>0</td>\n",
              "      <td>1</td>\n",
              "      <td>...</td>\n",
              "      <td>0</td>\n",
              "      <td>0</td>\n",
              "      <td>0</td>\n",
              "      <td>0</td>\n",
              "      <td>0</td>\n",
              "      <td>0</td>\n",
              "      <td>0</td>\n",
              "      <td>0</td>\n",
              "      <td>0</td>\n",
              "      <td>0</td>\n",
              "    </tr>\n",
              "    <tr>\n",
              "      <th>3</th>\n",
              "      <td>1</td>\n",
              "      <td>1</td>\n",
              "      <td>0</td>\n",
              "      <td>0</td>\n",
              "      <td>0</td>\n",
              "      <td>0</td>\n",
              "      <td>0</td>\n",
              "      <td>0</td>\n",
              "      <td>0</td>\n",
              "      <td>1</td>\n",
              "      <td>...</td>\n",
              "      <td>0</td>\n",
              "      <td>0</td>\n",
              "      <td>0</td>\n",
              "      <td>0</td>\n",
              "      <td>0</td>\n",
              "      <td>0</td>\n",
              "      <td>0</td>\n",
              "      <td>0</td>\n",
              "      <td>0</td>\n",
              "      <td>0</td>\n",
              "    </tr>\n",
              "    <tr>\n",
              "      <th>4</th>\n",
              "      <td>1</td>\n",
              "      <td>1</td>\n",
              "      <td>0</td>\n",
              "      <td>0</td>\n",
              "      <td>0</td>\n",
              "      <td>0</td>\n",
              "      <td>0</td>\n",
              "      <td>0</td>\n",
              "      <td>0</td>\n",
              "      <td>1</td>\n",
              "      <td>...</td>\n",
              "      <td>0</td>\n",
              "      <td>0</td>\n",
              "      <td>0</td>\n",
              "      <td>0</td>\n",
              "      <td>0</td>\n",
              "      <td>0</td>\n",
              "      <td>0</td>\n",
              "      <td>0</td>\n",
              "      <td>0</td>\n",
              "      <td>0</td>\n",
              "    </tr>\n",
              "    <tr>\n",
              "      <th>...</th>\n",
              "      <td>...</td>\n",
              "      <td>...</td>\n",
              "      <td>...</td>\n",
              "      <td>...</td>\n",
              "      <td>...</td>\n",
              "      <td>...</td>\n",
              "      <td>...</td>\n",
              "      <td>...</td>\n",
              "      <td>...</td>\n",
              "      <td>...</td>\n",
              "      <td>...</td>\n",
              "      <td>...</td>\n",
              "      <td>...</td>\n",
              "      <td>...</td>\n",
              "      <td>...</td>\n",
              "      <td>...</td>\n",
              "      <td>...</td>\n",
              "      <td>...</td>\n",
              "      <td>...</td>\n",
              "      <td>...</td>\n",
              "      <td>...</td>\n",
              "    </tr>\n",
              "    <tr>\n",
              "      <th>4690</th>\n",
              "      <td>1</td>\n",
              "      <td>1</td>\n",
              "      <td>1</td>\n",
              "      <td>1</td>\n",
              "      <td>0</td>\n",
              "      <td>0</td>\n",
              "      <td>0</td>\n",
              "      <td>0</td>\n",
              "      <td>0</td>\n",
              "      <td>1</td>\n",
              "      <td>...</td>\n",
              "      <td>0</td>\n",
              "      <td>0</td>\n",
              "      <td>0</td>\n",
              "      <td>0</td>\n",
              "      <td>0</td>\n",
              "      <td>0</td>\n",
              "      <td>0</td>\n",
              "      <td>0</td>\n",
              "      <td>0</td>\n",
              "      <td>0</td>\n",
              "    </tr>\n",
              "    <tr>\n",
              "      <th>4691</th>\n",
              "      <td>1</td>\n",
              "      <td>1</td>\n",
              "      <td>1</td>\n",
              "      <td>1</td>\n",
              "      <td>0</td>\n",
              "      <td>0</td>\n",
              "      <td>0</td>\n",
              "      <td>0</td>\n",
              "      <td>0</td>\n",
              "      <td>1</td>\n",
              "      <td>...</td>\n",
              "      <td>0</td>\n",
              "      <td>0</td>\n",
              "      <td>0</td>\n",
              "      <td>0</td>\n",
              "      <td>0</td>\n",
              "      <td>0</td>\n",
              "      <td>0</td>\n",
              "      <td>0</td>\n",
              "      <td>0</td>\n",
              "      <td>0</td>\n",
              "    </tr>\n",
              "    <tr>\n",
              "      <th>4692</th>\n",
              "      <td>1</td>\n",
              "      <td>1</td>\n",
              "      <td>1</td>\n",
              "      <td>1</td>\n",
              "      <td>0</td>\n",
              "      <td>0</td>\n",
              "      <td>0</td>\n",
              "      <td>0</td>\n",
              "      <td>0</td>\n",
              "      <td>1</td>\n",
              "      <td>...</td>\n",
              "      <td>0</td>\n",
              "      <td>0</td>\n",
              "      <td>0</td>\n",
              "      <td>0</td>\n",
              "      <td>0</td>\n",
              "      <td>0</td>\n",
              "      <td>0</td>\n",
              "      <td>0</td>\n",
              "      <td>0</td>\n",
              "      <td>0</td>\n",
              "    </tr>\n",
              "    <tr>\n",
              "      <th>4693</th>\n",
              "      <td>1</td>\n",
              "      <td>1</td>\n",
              "      <td>1</td>\n",
              "      <td>1</td>\n",
              "      <td>0</td>\n",
              "      <td>0</td>\n",
              "      <td>0</td>\n",
              "      <td>0</td>\n",
              "      <td>0</td>\n",
              "      <td>1</td>\n",
              "      <td>...</td>\n",
              "      <td>0</td>\n",
              "      <td>0</td>\n",
              "      <td>0</td>\n",
              "      <td>0</td>\n",
              "      <td>0</td>\n",
              "      <td>0</td>\n",
              "      <td>0</td>\n",
              "      <td>0</td>\n",
              "      <td>0</td>\n",
              "      <td>0</td>\n",
              "    </tr>\n",
              "    <tr>\n",
              "      <th>4694</th>\n",
              "      <td>1</td>\n",
              "      <td>1</td>\n",
              "      <td>1</td>\n",
              "      <td>1</td>\n",
              "      <td>0</td>\n",
              "      <td>0</td>\n",
              "      <td>0</td>\n",
              "      <td>0</td>\n",
              "      <td>0</td>\n",
              "      <td>1</td>\n",
              "      <td>...</td>\n",
              "      <td>0</td>\n",
              "      <td>0</td>\n",
              "      <td>0</td>\n",
              "      <td>0</td>\n",
              "      <td>0</td>\n",
              "      <td>0</td>\n",
              "      <td>0</td>\n",
              "      <td>0</td>\n",
              "      <td>0</td>\n",
              "      <td>0</td>\n",
              "    </tr>\n",
              "  </tbody>\n",
              "</table>\n",
              "<p>4695 rows × 881 columns</p>\n",
              "</div>\n",
              "      <button class=\"colab-df-convert\" onclick=\"convertToInteractive('df-8ca41170-08cb-471c-9a35-b5aaca9c884c')\"\n",
              "              title=\"Convert this dataframe to an interactive table.\"\n",
              "              style=\"display:none;\">\n",
              "        \n",
              "  <svg xmlns=\"http://www.w3.org/2000/svg\" height=\"24px\"viewBox=\"0 0 24 24\"\n",
              "       width=\"24px\">\n",
              "    <path d=\"M0 0h24v24H0V0z\" fill=\"none\"/>\n",
              "    <path d=\"M18.56 5.44l.94 2.06.94-2.06 2.06-.94-2.06-.94-.94-2.06-.94 2.06-2.06.94zm-11 1L8.5 8.5l.94-2.06 2.06-.94-2.06-.94L8.5 2.5l-.94 2.06-2.06.94zm10 10l.94 2.06.94-2.06 2.06-.94-2.06-.94-.94-2.06-.94 2.06-2.06.94z\"/><path d=\"M17.41 7.96l-1.37-1.37c-.4-.4-.92-.59-1.43-.59-.52 0-1.04.2-1.43.59L10.3 9.45l-7.72 7.72c-.78.78-.78 2.05 0 2.83L4 21.41c.39.39.9.59 1.41.59.51 0 1.02-.2 1.41-.59l7.78-7.78 2.81-2.81c.8-.78.8-2.07 0-2.86zM5.41 20L4 18.59l7.72-7.72 1.47 1.35L5.41 20z\"/>\n",
              "  </svg>\n",
              "      </button>\n",
              "      \n",
              "  <style>\n",
              "    .colab-df-container {\n",
              "      display:flex;\n",
              "      flex-wrap:wrap;\n",
              "      gap: 12px;\n",
              "    }\n",
              "\n",
              "    .colab-df-convert {\n",
              "      background-color: #E8F0FE;\n",
              "      border: none;\n",
              "      border-radius: 50%;\n",
              "      cursor: pointer;\n",
              "      display: none;\n",
              "      fill: #1967D2;\n",
              "      height: 32px;\n",
              "      padding: 0 0 0 0;\n",
              "      width: 32px;\n",
              "    }\n",
              "\n",
              "    .colab-df-convert:hover {\n",
              "      background-color: #E2EBFA;\n",
              "      box-shadow: 0px 1px 2px rgba(60, 64, 67, 0.3), 0px 1px 3px 1px rgba(60, 64, 67, 0.15);\n",
              "      fill: #174EA6;\n",
              "    }\n",
              "\n",
              "    [theme=dark] .colab-df-convert {\n",
              "      background-color: #3B4455;\n",
              "      fill: #D2E3FC;\n",
              "    }\n",
              "\n",
              "    [theme=dark] .colab-df-convert:hover {\n",
              "      background-color: #434B5C;\n",
              "      box-shadow: 0px 1px 3px 1px rgba(0, 0, 0, 0.15);\n",
              "      filter: drop-shadow(0px 1px 2px rgba(0, 0, 0, 0.3));\n",
              "      fill: #FFFFFF;\n",
              "    }\n",
              "  </style>\n",
              "\n",
              "      <script>\n",
              "        const buttonEl =\n",
              "          document.querySelector('#df-8ca41170-08cb-471c-9a35-b5aaca9c884c button.colab-df-convert');\n",
              "        buttonEl.style.display =\n",
              "          google.colab.kernel.accessAllowed ? 'block' : 'none';\n",
              "\n",
              "        async function convertToInteractive(key) {\n",
              "          const element = document.querySelector('#df-8ca41170-08cb-471c-9a35-b5aaca9c884c');\n",
              "          const dataTable =\n",
              "            await google.colab.kernel.invokeFunction('convertToInteractive',\n",
              "                                                     [key], {});\n",
              "          if (!dataTable) return;\n",
              "\n",
              "          const docLinkHtml = 'Like what you see? Visit the ' +\n",
              "            '<a target=\"_blank\" href=https://colab.research.google.com/notebooks/data_table.ipynb>data table notebook</a>'\n",
              "            + ' to learn more about interactive tables.';\n",
              "          element.innerHTML = '';\n",
              "          dataTable['output_type'] = 'display_data';\n",
              "          await google.colab.output.renderOutput(dataTable, element);\n",
              "          const docLink = document.createElement('div');\n",
              "          docLink.innerHTML = docLinkHtml;\n",
              "          element.appendChild(docLink);\n",
              "        }\n",
              "      </script>\n",
              "    </div>\n",
              "  </div>\n",
              "  "
            ]
          },
          "metadata": {},
          "execution_count": 4
        }
      ]
    },
    {
      "cell_type": "markdown",
      "metadata": {
        "id": "sGQjCQtfhSwg"
      },
      "source": [
        "### **3.2. Output features**"
      ]
    },
    {
      "cell_type": "code",
      "metadata": {
        "id": "OWylAtAVhSwh",
        "colab": {
          "base_uri": "https://localhost:8080/"
        },
        "outputId": "398ebf30-f9be-426e-ccce-aba9de8f183d"
      },
      "source": [
        "Y = df.pIC50\n",
        "Y"
      ],
      "execution_count": 5,
      "outputs": [
        {
          "output_type": "execute_result",
          "data": {
            "text/plain": [
              "0       6.124939\n",
              "1       7.000000\n",
              "2       4.301030\n",
              "3       6.522879\n",
              "4       6.096910\n",
              "          ...   \n",
              "4690    5.612610\n",
              "4691    5.595166\n",
              "4692    5.419075\n",
              "4693    5.460924\n",
              "4694    5.555955\n",
              "Name: pIC50, Length: 4695, dtype: float64"
            ]
          },
          "metadata": {},
          "execution_count": 5
        }
      ]
    },
    {
      "cell_type": "markdown",
      "metadata": {
        "id": "E-zGSqXohSwx"
      },
      "source": [
        "### **3.3. Let's examine the data dimension**"
      ]
    },
    {
      "cell_type": "code",
      "metadata": {
        "id": "nhT04XtLhSwx",
        "colab": {
          "base_uri": "https://localhost:8080/"
        },
        "outputId": "3fbc6432-55b5-4e9a-b082-e06f4067d2f0"
      },
      "source": [
        "X.shape"
      ],
      "execution_count": 6,
      "outputs": [
        {
          "output_type": "execute_result",
          "data": {
            "text/plain": [
              "(4695, 881)"
            ]
          },
          "metadata": {},
          "execution_count": 6
        }
      ]
    },
    {
      "cell_type": "code",
      "metadata": {
        "id": "uzQlK8gNhSw0",
        "colab": {
          "base_uri": "https://localhost:8080/"
        },
        "outputId": "aa9b9f8d-55eb-4eb9-dbd8-7c0e20242e5a"
      },
      "source": [
        "Y.shape"
      ],
      "execution_count": 7,
      "outputs": [
        {
          "output_type": "execute_result",
          "data": {
            "text/plain": [
              "(4695,)"
            ]
          },
          "metadata": {},
          "execution_count": 7
        }
      ]
    },
    {
      "cell_type": "markdown",
      "metadata": {
        "id": "0qQCpX097qf_"
      },
      "source": [
        "### **3.4. Remove low variance features**"
      ]
    },
    {
      "cell_type": "code",
      "metadata": {
        "id": "rjHK2SoI7tXI"
      },
      "source": [
        "from sklearn.feature_selection import VarianceThreshold\n",
        "selection = VarianceThreshold(threshold=(.8 * (1 - .8)))    \n",
        "X = selection.fit_transform(X)"
      ],
      "execution_count": 8,
      "outputs": []
    },
    {
      "cell_type": "code",
      "metadata": {
        "id": "nXcpQh_s8nx7",
        "colab": {
          "base_uri": "https://localhost:8080/"
        },
        "outputId": "63eebbc6-4486-4b83-8fd4-29cd33a694d9"
      },
      "source": [
        "X.shape"
      ],
      "execution_count": 9,
      "outputs": [
        {
          "output_type": "execute_result",
          "data": {
            "text/plain": [
              "(4695, 137)"
            ]
          },
          "metadata": {},
          "execution_count": 9
        }
      ]
    },
    {
      "cell_type": "markdown",
      "metadata": {
        "id": "AjhOlkOVhSxR"
      },
      "source": [
        "## **4. Data split (80/20 ratio)**"
      ]
    },
    {
      "cell_type": "code",
      "metadata": {
        "id": "M1Bmg1HWhSxR"
      },
      "source": [
        "X_train, X_test, Y_train, Y_test = train_test_split(X, Y, test_size=0.2)"
      ],
      "execution_count": 10,
      "outputs": []
    },
    {
      "cell_type": "code",
      "metadata": {
        "id": "uz1o3c1LhSxU",
        "colab": {
          "base_uri": "https://localhost:8080/"
        },
        "outputId": "80ca07b5-ce63-4186-8f73-aad468a9043a"
      },
      "source": [
        "X_train.shape, Y_train.shape"
      ],
      "execution_count": 11,
      "outputs": [
        {
          "output_type": "execute_result",
          "data": {
            "text/plain": [
              "((3756, 137), (3756,))"
            ]
          },
          "metadata": {},
          "execution_count": 11
        }
      ]
    },
    {
      "cell_type": "code",
      "metadata": {
        "id": "4tnwDASChSxW",
        "colab": {
          "base_uri": "https://localhost:8080/"
        },
        "outputId": "d845d853-19be-4925-be37-0e38de30b987"
      },
      "source": [
        "X_test.shape, Y_test.shape"
      ],
      "execution_count": 12,
      "outputs": [
        {
          "output_type": "execute_result",
          "data": {
            "text/plain": [
              "((939, 137), (939,))"
            ]
          },
          "metadata": {},
          "execution_count": 12
        }
      ]
    },
    {
      "cell_type": "markdown",
      "metadata": {
        "id": "PYsE-tIAhSw3"
      },
      "source": [
        "## **5. Building a Regression Model using Random Forest**"
      ]
    },
    {
      "cell_type": "code",
      "metadata": {
        "id": "YHM3DCD5wuNe",
        "colab": {
          "base_uri": "https://localhost:8080/"
        },
        "outputId": "a4b1bffd-462b-45ba-de3d-e16bcb864691"
      },
      "source": [
        "model = RandomForestRegressor(n_estimators=100)\n",
        "np.random.seed(100)\n",
        "model.fit(X_train, Y_train)\n",
        "r2 = model.score(X_test, Y_test)\n",
        "r2"
      ],
      "execution_count": 20,
      "outputs": [
        {
          "output_type": "execute_result",
          "data": {
            "text/plain": [
              "0.5161499029395693"
            ]
          },
          "metadata": {},
          "execution_count": 20
        }
      ]
    },
    {
      "cell_type": "code",
      "metadata": {
        "id": "A4Rv5wdQ1M6H"
      },
      "source": [
        "Y_pred = model.predict(X_test)"
      ],
      "execution_count": 21,
      "outputs": []
    },
    {
      "cell_type": "markdown",
      "metadata": {
        "id": "LoLgjePyUXcv"
      },
      "source": [
        "## **6. Scatter Plot of Experimental vs Predicted pIC50 Values**"
      ]
    },
    {
      "cell_type": "code",
      "metadata": {
        "id": "hfqpfjxw3IAK",
        "colab": {
          "base_uri": "https://localhost:8080/",
          "height": 361
        },
        "outputId": "61cec2f2-de67-4fa8-94ca-05d0d35a6319"
      },
      "source": [
        "import seaborn as sns\n",
        "import matplotlib.pyplot as plt\n",
        "\n",
        "sns.set(color_codes=True)\n",
        "sns.set_style(\"white\")\n",
        "\n",
        "ax = sns.regplot(x=Y_test, y=Y_pred, scatter_kws={'alpha':0.4})\n",
        "ax.set_xlabel('Experimental pIC50', fontsize='large', fontweight='bold')\n",
        "ax.set_ylabel('Predicted pIC50', fontsize='large', fontweight='bold')\n",
        "ax.set_xlim(0, 12)\n",
        "ax.set_ylim(0, 12)\n",
        "ax.figure.set_size_inches(5, 5)\n",
        "plt.show"
      ],
      "execution_count": 30,
      "outputs": [
        {
          "output_type": "execute_result",
          "data": {
            "text/plain": [
              "<function matplotlib.pyplot.show(close=None, block=None)>"
            ]
          },
          "metadata": {},
          "execution_count": 30
        },
        {
          "output_type": "display_data",
          "data": {
            "text/plain": [
              "<Figure size 360x360 with 1 Axes>"
            ],
            "image/png": "[encoded data removed]"
          },
          "metadata": {}
        }
      ]
    }
  ]
}